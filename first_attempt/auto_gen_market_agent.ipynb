{
 "cells": [
  {
   "cell_type": "code",
   "execution_count": null,
   "metadata": {},
   "outputs": [
    {
     "ename": "",
     "evalue": "",
     "output_type": "error",
     "traceback": [
      "\u001b[1;31mRunning cells with '.venv (Python 3.11.0)' requires the ipykernel package.\n",
      "\u001b[1;31mRun the following command to install 'ipykernel' into the Python environment. \n",
      "\u001b[1;31mCommand: 'c:/drive/projects/study/autogen-tutorial/agentic_challenge/.venv/Scripts/python.exe -m pip install ipykernel -U --force-reinstall'"
     ]
    }
   ],
   "source": [
    "import asyncio\n",
    "from autogen_ext.models.openai import (\n",
    "    AzureOpenAIChatCompletionClient,\n",
    "    OpenAIChatCompletionClient,\n",
    ")\n",
    "from autogen_agentchat.agents import AssistantAgent, UserProxyAgent\n",
    "from autogen_agentchat.teams import RoundRobinGroupChat\n",
    "from autogen_agentchat.conditions import TextMentionTermination\n",
    "from autogen_agentchat.ui import Console\n",
    "from openai import AzureOpenAI\n",
    "from autogen_ext.models.openai import (\n",
    "    AzureOpenAIChatCompletionClient,\n",
    ")  # Azure OpenAI API\n",
    "from autogen_agentchat.agents import AssistantAgent  # Agent\n",
    "from autogen_agentchat.agents import UserProxyAgent  # Agent\n",
    "from autogen_agentchat.conditions import TextMentionTermination  # Termination condition\n",
    "from autogen_agentchat.teams import RoundRobinGroupChat  # Agent design pattern\n",
    "from autogen_agentchat.ui import Console  # To view agent outputs\n",
    "from tavily import TavilyClient  # For our search tool (Just an example tool)\n",
    "from dotenv import (\n",
    "    load_dotenv,\n",
    ")  # You should have your own .env file with required API keys\n",
    "import os\n",
    "\n",
    "# from IPython.display import display, Markdown\n",
    "# from reportlab.lib.pagesizes import letter\n",
    "# from reportlab.pdfgen import canvas\n",
    "# from reportlab.lib.utils import ImageReader\n",
    "import textwrap\n",
    "import httpx\n"
   ]
  }
 ],
 "metadata": {
  "kernelspec": {
   "display_name": ".venv",
   "language": "python",
   "name": "python3"
  },
  "language_info": {
   "name": "python",
   "version": "3.11.0"
  }
 },
 "nbformat": 4,
 "nbformat_minor": 2
}
